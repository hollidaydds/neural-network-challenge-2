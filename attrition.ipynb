{
  "cells": [
    {
      "cell_type": "markdown",
      "metadata": {
        "id": "alIIEHibGc3M"
      },
      "source": [
        "## Part 1: Preprocessing"
      ]
    },
    {
      "cell_type": "code",
      "execution_count": 117,
      "metadata": {
        "colab": {
          "base_uri": "https://localhost:8080/",
          "height": 325
        },
        "id": "6eDUJ4NtGc3P",
        "outputId": "2480098c-135c-4cbf-9552-018494ee8ff5"
      },
      "outputs": [
        {
          "data": {
            "text/html": [
              "<div>\n",
              "<style scoped>\n",
              "    .dataframe tbody tr th:only-of-type {\n",
              "        vertical-align: middle;\n",
              "    }\n",
              "\n",
              "    .dataframe tbody tr th {\n",
              "        vertical-align: top;\n",
              "    }\n",
              "\n",
              "    .dataframe thead th {\n",
              "        text-align: right;\n",
              "    }\n",
              "</style>\n",
              "<table border=\"1\" class=\"dataframe\">\n",
              "  <thead>\n",
              "    <tr style=\"text-align: right;\">\n",
              "      <th></th>\n",
              "      <th>Age</th>\n",
              "      <th>Attrition</th>\n",
              "      <th>BusinessTravel</th>\n",
              "      <th>Department</th>\n",
              "      <th>DistanceFromHome</th>\n",
              "      <th>Education</th>\n",
              "      <th>EducationField</th>\n",
              "      <th>EnvironmentSatisfaction</th>\n",
              "      <th>HourlyRate</th>\n",
              "      <th>JobInvolvement</th>\n",
              "      <th>...</th>\n",
              "      <th>PerformanceRating</th>\n",
              "      <th>RelationshipSatisfaction</th>\n",
              "      <th>StockOptionLevel</th>\n",
              "      <th>TotalWorkingYears</th>\n",
              "      <th>TrainingTimesLastYear</th>\n",
              "      <th>WorkLifeBalance</th>\n",
              "      <th>YearsAtCompany</th>\n",
              "      <th>YearsInCurrentRole</th>\n",
              "      <th>YearsSinceLastPromotion</th>\n",
              "      <th>YearsWithCurrManager</th>\n",
              "    </tr>\n",
              "  </thead>\n",
              "  <tbody>\n",
              "    <tr>\n",
              "      <th>0</th>\n",
              "      <td>41</td>\n",
              "      <td>Yes</td>\n",
              "      <td>Travel_Rarely</td>\n",
              "      <td>Sales</td>\n",
              "      <td>1</td>\n",
              "      <td>2</td>\n",
              "      <td>Life Sciences</td>\n",
              "      <td>2</td>\n",
              "      <td>94</td>\n",
              "      <td>3</td>\n",
              "      <td>...</td>\n",
              "      <td>3</td>\n",
              "      <td>1</td>\n",
              "      <td>0</td>\n",
              "      <td>8</td>\n",
              "      <td>0</td>\n",
              "      <td>1</td>\n",
              "      <td>6</td>\n",
              "      <td>4</td>\n",
              "      <td>0</td>\n",
              "      <td>5</td>\n",
              "    </tr>\n",
              "    <tr>\n",
              "      <th>1</th>\n",
              "      <td>49</td>\n",
              "      <td>No</td>\n",
              "      <td>Travel_Frequently</td>\n",
              "      <td>Research &amp; Development</td>\n",
              "      <td>8</td>\n",
              "      <td>1</td>\n",
              "      <td>Life Sciences</td>\n",
              "      <td>3</td>\n",
              "      <td>61</td>\n",
              "      <td>2</td>\n",
              "      <td>...</td>\n",
              "      <td>4</td>\n",
              "      <td>4</td>\n",
              "      <td>1</td>\n",
              "      <td>10</td>\n",
              "      <td>3</td>\n",
              "      <td>3</td>\n",
              "      <td>10</td>\n",
              "      <td>7</td>\n",
              "      <td>1</td>\n",
              "      <td>7</td>\n",
              "    </tr>\n",
              "    <tr>\n",
              "      <th>2</th>\n",
              "      <td>37</td>\n",
              "      <td>Yes</td>\n",
              "      <td>Travel_Rarely</td>\n",
              "      <td>Research &amp; Development</td>\n",
              "      <td>2</td>\n",
              "      <td>2</td>\n",
              "      <td>Other</td>\n",
              "      <td>4</td>\n",
              "      <td>92</td>\n",
              "      <td>2</td>\n",
              "      <td>...</td>\n",
              "      <td>3</td>\n",
              "      <td>2</td>\n",
              "      <td>0</td>\n",
              "      <td>7</td>\n",
              "      <td>3</td>\n",
              "      <td>3</td>\n",
              "      <td>0</td>\n",
              "      <td>0</td>\n",
              "      <td>0</td>\n",
              "      <td>0</td>\n",
              "    </tr>\n",
              "    <tr>\n",
              "      <th>3</th>\n",
              "      <td>33</td>\n",
              "      <td>No</td>\n",
              "      <td>Travel_Frequently</td>\n",
              "      <td>Research &amp; Development</td>\n",
              "      <td>3</td>\n",
              "      <td>4</td>\n",
              "      <td>Life Sciences</td>\n",
              "      <td>4</td>\n",
              "      <td>56</td>\n",
              "      <td>3</td>\n",
              "      <td>...</td>\n",
              "      <td>3</td>\n",
              "      <td>3</td>\n",
              "      <td>0</td>\n",
              "      <td>8</td>\n",
              "      <td>3</td>\n",
              "      <td>3</td>\n",
              "      <td>8</td>\n",
              "      <td>7</td>\n",
              "      <td>3</td>\n",
              "      <td>0</td>\n",
              "    </tr>\n",
              "    <tr>\n",
              "      <th>4</th>\n",
              "      <td>27</td>\n",
              "      <td>No</td>\n",
              "      <td>Travel_Rarely</td>\n",
              "      <td>Research &amp; Development</td>\n",
              "      <td>2</td>\n",
              "      <td>1</td>\n",
              "      <td>Medical</td>\n",
              "      <td>1</td>\n",
              "      <td>40</td>\n",
              "      <td>3</td>\n",
              "      <td>...</td>\n",
              "      <td>3</td>\n",
              "      <td>4</td>\n",
              "      <td>1</td>\n",
              "      <td>6</td>\n",
              "      <td>3</td>\n",
              "      <td>3</td>\n",
              "      <td>2</td>\n",
              "      <td>2</td>\n",
              "      <td>2</td>\n",
              "      <td>2</td>\n",
              "    </tr>\n",
              "  </tbody>\n",
              "</table>\n",
              "<p>5 rows × 27 columns</p>\n",
              "</div>"
            ],
            "text/plain": [
              "   Age Attrition     BusinessTravel              Department  DistanceFromHome  \\\n",
              "0   41       Yes      Travel_Rarely                   Sales                 1   \n",
              "1   49        No  Travel_Frequently  Research & Development                 8   \n",
              "2   37       Yes      Travel_Rarely  Research & Development                 2   \n",
              "3   33        No  Travel_Frequently  Research & Development                 3   \n",
              "4   27        No      Travel_Rarely  Research & Development                 2   \n",
              "\n",
              "   Education EducationField  EnvironmentSatisfaction  HourlyRate  \\\n",
              "0          2  Life Sciences                        2          94   \n",
              "1          1  Life Sciences                        3          61   \n",
              "2          2          Other                        4          92   \n",
              "3          4  Life Sciences                        4          56   \n",
              "4          1        Medical                        1          40   \n",
              "\n",
              "   JobInvolvement  ...  PerformanceRating RelationshipSatisfaction  \\\n",
              "0               3  ...                  3                        1   \n",
              "1               2  ...                  4                        4   \n",
              "2               2  ...                  3                        2   \n",
              "3               3  ...                  3                        3   \n",
              "4               3  ...                  3                        4   \n",
              "\n",
              "   StockOptionLevel TotalWorkingYears  TrainingTimesLastYear WorkLifeBalance  \\\n",
              "0                 0                 8                      0               1   \n",
              "1                 1                10                      3               3   \n",
              "2                 0                 7                      3               3   \n",
              "3                 0                 8                      3               3   \n",
              "4                 1                 6                      3               3   \n",
              "\n",
              "   YearsAtCompany  YearsInCurrentRole  YearsSinceLastPromotion  \\\n",
              "0               6                   4                        0   \n",
              "1              10                   7                        1   \n",
              "2               0                   0                        0   \n",
              "3               8                   7                        3   \n",
              "4               2                   2                        2   \n",
              "\n",
              "   YearsWithCurrManager  \n",
              "0                     5  \n",
              "1                     7  \n",
              "2                     0  \n",
              "3                     0  \n",
              "4                     2  \n",
              "\n",
              "[5 rows x 27 columns]"
            ]
          },
          "execution_count": 117,
          "metadata": {},
          "output_type": "execute_result"
        }
      ],
      "source": [
        "# Import our dependencies\n",
        "from sklearn.model_selection import train_test_split\n",
        "from sklearn.preprocessing import StandardScaler\n",
        "import pandas as pd\n",
        "import numpy as np\n",
        "from tensorflow.keras.models import Model\n",
        "from tensorflow.keras import layers\n",
        "\n",
        "#  Import and read the attrition data\n",
        "attrition_df = pd.read_csv('https://static.bc-edx.com/ai/ail-v-1-0/m19/lms/datasets/attrition.csv')\n",
        "attrition_df.head()"
      ]
    },
    {
      "cell_type": "code",
      "execution_count": 118,
      "metadata": {
        "colab": {
          "base_uri": "https://localhost:8080/"
        },
        "id": "g22aQSY4Gc3Q",
        "outputId": "1f5c13c1-b981-4e40-a7ed-dd3fe6f1b81e"
      },
      "outputs": [
        {
          "data": {
            "text/plain": [
              "Age                         43\n",
              "Attrition                    2\n",
              "BusinessTravel               3\n",
              "Department                   3\n",
              "DistanceFromHome            29\n",
              "Education                    5\n",
              "EducationField               6\n",
              "EnvironmentSatisfaction      4\n",
              "HourlyRate                  71\n",
              "JobInvolvement               4\n",
              "JobLevel                     5\n",
              "JobRole                      9\n",
              "JobSatisfaction              4\n",
              "MaritalStatus                3\n",
              "NumCompaniesWorked          10\n",
              "OverTime                     2\n",
              "PercentSalaryHike           15\n",
              "PerformanceRating            2\n",
              "RelationshipSatisfaction     4\n",
              "StockOptionLevel             4\n",
              "TotalWorkingYears           40\n",
              "TrainingTimesLastYear        7\n",
              "WorkLifeBalance              4\n",
              "YearsAtCompany              37\n",
              "YearsInCurrentRole          19\n",
              "YearsSinceLastPromotion     16\n",
              "YearsWithCurrManager        18\n",
              "dtype: int64"
            ]
          },
          "execution_count": 118,
          "metadata": {},
          "output_type": "execute_result"
        }
      ],
      "source": [
        "# Determine the number of unique values in each column.\n",
        "attrition_df.nunique()"
      ]
    },
    {
      "cell_type": "code",
      "execution_count": 119,
      "metadata": {
        "id": "50vMgBEnJbfM"
      },
      "outputs": [],
      "source": [
        "# Create y_df with the Attrition and Department columns\n",
        "y_df = attrition_df[['Attrition', 'Department']]\n"
      ]
    },
    {
      "cell_type": "code",
      "execution_count": 120,
      "metadata": {
        "colab": {
          "base_uri": "https://localhost:8080/"
        },
        "id": "Virka0zLGc3R",
        "outputId": "dd5aee3a-9458-4ba6-e857-1b234de40915"
      },
      "outputs": [
        {
          "data": {
            "text/plain": [
              "Age                        int64\n",
              "DistanceFromHome           int64\n",
              "Education                  int64\n",
              "EnvironmentSatisfaction    int64\n",
              "HourlyRate                 int64\n",
              "JobInvolvement             int64\n",
              "JobLevel                   int64\n",
              "JobSatisfaction            int64\n",
              "TotalWorkingYears          int64\n",
              "YearsSinceLastPromotion    int64\n",
              "dtype: object"
            ]
          },
          "execution_count": 120,
          "metadata": {},
          "output_type": "execute_result"
        }
      ],
      "source": [
        "# Create a list of at least 10 column names to use as X data\n",
        "columns = ['Age', 'DistanceFromHome', 'Education', 'EnvironmentSatisfaction', 'HourlyRate', 'JobInvolvement', 'JobLevel', 'JobSatisfaction', 'TotalWorkingYears', 'YearsSinceLastPromotion']\n",
        "\n",
        "# Create X_df using your selected columns\n",
        "X_df = attrition_df[columns]\n",
        "\n",
        "# Show the data types for X_df\n",
        "X_df.dtypes\n"
      ]
    },
    {
      "cell_type": "code",
      "execution_count": 121,
      "metadata": {
        "id": "KaJfdOGUMHMR"
      },
      "outputs": [],
      "source": [
        "# Split the data into training and testing sets\n",
        "from sklearn.model_selection import train_test_split\n",
        "X_train, X_test, y_train, y_test = train_test_split(X_df, y_df, random_state=42)\n"
      ]
    },
    {
      "cell_type": "code",
      "execution_count": 122,
      "metadata": {
        "colab": {
          "base_uri": "https://localhost:8080/"
        },
        "id": "NYubUJqiLCSp",
        "outputId": "53f31721-571c-4c94-d13e-25a715749593"
      },
      "outputs": [],
      "source": [
        "# Convert your X data to numeric data types however you see fit\n",
        "# Add new code cells as necessary\n",
        "\n",
        "# They are all already numeric."
      ]
    },
    {
      "cell_type": "code",
      "execution_count": 123,
      "metadata": {
        "id": "EWA-aIA5Gc3T"
      },
      "outputs": [],
      "source": [
        "# Create a StandardScaler\n",
        "scaler = StandardScaler()\n",
        "\n",
        "# Fit the StandardScaler to the training data\n",
        "scaler.fit(X_train)\n",
        "\n",
        "# Scale the training and testing data\n",
        "X_train_scaled = scaler.transform(X_train)\n",
        "X_test_scaled = scaler.transform(X_test)"
      ]
    },
    {
      "cell_type": "code",
      "execution_count": 124,
      "metadata": {
        "colab": {
          "base_uri": "https://localhost:8080/"
        },
        "id": "-z0Mky8vQSz4",
        "outputId": "debefc85-c20b-48f5-f4d9-91eadd65d36a"
      },
      "outputs": [
        {
          "data": {
            "text/plain": [
              "array([[0., 1., 0.],\n",
              "       [0., 0., 1.],\n",
              "       [0., 0., 1.],\n",
              "       ...,\n",
              "       [0., 1., 0.],\n",
              "       [0., 1., 0.],\n",
              "       [0., 0., 1.]])"
            ]
          },
          "execution_count": 124,
          "metadata": {},
          "output_type": "execute_result"
        }
      ],
      "source": [
        "from sklearn.preprocessing import OneHotEncoder\n",
        "\n",
        "# Create a OneHotEncoder for the Department column\n",
        "encoder = OneHotEncoder(sparse_output=False)\n",
        "\n",
        "# Fit the encoder to the training data\n",
        "encoder.fit(y_train[['Department']])\n",
        "\n",
        "# Create two new variables by applying the encoder\n",
        "# to the training and testing data\n",
        "training_encoded = encoder.transform(y_train[['Department']])\n",
        "test_encoded = encoder.transform(y_test[['Department']])\n",
        "\n",
        "training_encoded"
      ]
    },
    {
      "cell_type": "code",
      "execution_count": 125,
      "metadata": {
        "colab": {
          "base_uri": "https://localhost:8080/"
        },
        "id": "-G4DSpvFRrk4",
        "outputId": "9842e948-8a55-4b80-8fac-f96714e85589"
      },
      "outputs": [
        {
          "data": {
            "text/plain": [
              "array([[1., 0.],\n",
              "       [1., 0.],\n",
              "       [1., 0.],\n",
              "       ...,\n",
              "       [0., 1.],\n",
              "       [1., 0.],\n",
              "       [1., 0.]])"
            ]
          },
          "execution_count": 125,
          "metadata": {},
          "output_type": "execute_result"
        }
      ],
      "source": [
        "# Create a OneHotEncoder for the Attrition column\n",
        "attrition_encoder = OneHotEncoder(sparse_output=False)\n",
        "\n",
        "# Fit the encoder to the training data\n",
        "attrition_encoder.fit(y_train[['Attrition']])\n",
        "\n",
        "# Create two new variables by applying the encoder\n",
        "# to the training and testing data\n",
        "at_training_encoded = attrition_encoder.transform(y_train[['Attrition']])\n",
        "at_test_encoded = attrition_encoder.transform(y_test[['Attrition']])\n",
        "\n",
        "at_training_encoded"
      ]
    },
    {
      "cell_type": "markdown",
      "metadata": {
        "id": "ykNmu_WWGc3T"
      },
      "source": [
        "## Create, Compile, and Train the Model"
      ]
    },
    {
      "cell_type": "code",
      "execution_count": 126,
      "metadata": {
        "id": "WUptZqmSGc3T"
      },
      "outputs": [],
      "source": [
        "# Find the number of columns in the X training data\n",
        "num_features = X_train_scaled.shape[1]\n",
        "\n",
        "# Create the input layer\n",
        "input_layer = layers.Input(shape=(num_features,))\n",
        "\n",
        "# Create at least two shared layers\n",
        "shared_layer1 = layers.Dense(units=64, activation='relu')(input_layer) \n",
        "shared_layer2 = layers.Dense(units=128, activation='relu')(shared_layer1)"
      ]
    },
    {
      "cell_type": "code",
      "execution_count": 127,
      "metadata": {
        "id": "JukjTm2yTEqd"
      },
      "outputs": [],
      "source": [
        "# Create a branch for Department\n",
        "# with a hidden layer and an output layer\n",
        "\n",
        "# Create the hidden layer\n",
        "department_hidden_layer = layers.Dense(units=32, activation='relu', name='Department_Hidden')(shared_layer2)\n",
        "\n",
        "# Create the output layer\n",
        "department_output_layer = layers.Dense(units=3, activation='sigmoid', name='Department_Output')(department_hidden_layer)\n"
      ]
    },
    {
      "cell_type": "code",
      "execution_count": 128,
      "metadata": {
        "id": "9OqhUiOJUBkR"
      },
      "outputs": [],
      "source": [
        "# Create a branch for Attrition\n",
        "# with a hidden layer and an output layer\n",
        "\n",
        "# Create the hidden layer\n",
        "attrition_hidden_layer = layers.Dense(units=32, activation='relu', name='Attrition_Hidden')(shared_layer2)\n",
        "\n",
        "# Create the output layer\n",
        "attrition_output_layer = layers.Dense(units=2, activation='sigmoid', name='Attrition_Output')(attrition_hidden_layer)\n"
      ]
    },
    {
      "cell_type": "code",
      "execution_count": 129,
      "metadata": {
        "colab": {
          "base_uri": "https://localhost:8080/"
        },
        "id": "twmuejdxGc3T",
        "outputId": "25096308-b68b-42e4-e4ea-ae82e97c435a"
      },
      "outputs": [
        {
          "data": {
            "text/html": [
              "<pre style=\"white-space:pre;overflow-x:auto;line-height:normal;font-family:Menlo,'DejaVu Sans Mono',consolas,'Courier New',monospace\"><span style=\"font-weight: bold\">Model: \"functional_8\"</span>\n",
              "</pre>\n"
            ],
            "text/plain": [
              "\u001b[1mModel: \"functional_8\"\u001b[0m\n"
            ]
          },
          "metadata": {},
          "output_type": "display_data"
        },
        {
          "data": {
            "text/html": [
              "<pre style=\"white-space:pre;overflow-x:auto;line-height:normal;font-family:Menlo,'DejaVu Sans Mono',consolas,'Courier New',monospace\">┏━━━━━━━━━━━━━━━━━━━━━┳━━━━━━━━━━━━━━━━━━━┳━━━━━━━━━━━━┳━━━━━━━━━━━━━━━━━━━┓\n",
              "┃<span style=\"font-weight: bold\"> Layer (type)        </span>┃<span style=\"font-weight: bold\"> Output Shape      </span>┃<span style=\"font-weight: bold\">    Param # </span>┃<span style=\"font-weight: bold\"> Connected to      </span>┃\n",
              "┡━━━━━━━━━━━━━━━━━━━━━╇━━━━━━━━━━━━━━━━━━━╇━━━━━━━━━━━━╇━━━━━━━━━━━━━━━━━━━┩\n",
              "│ input_layer_10      │ (<span style=\"color: #00d7ff; text-decoration-color: #00d7ff\">None</span>, <span style=\"color: #00af00; text-decoration-color: #00af00\">10</span>)        │          <span style=\"color: #00af00; text-decoration-color: #00af00\">0</span> │ -                 │\n",
              "│ (<span style=\"color: #0087ff; text-decoration-color: #0087ff\">InputLayer</span>)        │                   │            │                   │\n",
              "├─────────────────────┼───────────────────┼────────────┼───────────────────┤\n",
              "│ dense_30 (<span style=\"color: #0087ff; text-decoration-color: #0087ff\">Dense</span>)    │ (<span style=\"color: #00d7ff; text-decoration-color: #00d7ff\">None</span>, <span style=\"color: #00af00; text-decoration-color: #00af00\">64</span>)        │        <span style=\"color: #00af00; text-decoration-color: #00af00\">704</span> │ input_layer_10[<span style=\"color: #00af00; text-decoration-color: #00af00\">0</span>… │\n",
              "├─────────────────────┼───────────────────┼────────────┼───────────────────┤\n",
              "│ dense_31 (<span style=\"color: #0087ff; text-decoration-color: #0087ff\">Dense</span>)    │ (<span style=\"color: #00d7ff; text-decoration-color: #00d7ff\">None</span>, <span style=\"color: #00af00; text-decoration-color: #00af00\">128</span>)       │      <span style=\"color: #00af00; text-decoration-color: #00af00\">8,320</span> │ dense_30[<span style=\"color: #00af00; text-decoration-color: #00af00\">0</span>][<span style=\"color: #00af00; text-decoration-color: #00af00\">0</span>]    │\n",
              "├─────────────────────┼───────────────────┼────────────┼───────────────────┤\n",
              "│ Department_Hidden   │ (<span style=\"color: #00d7ff; text-decoration-color: #00d7ff\">None</span>, <span style=\"color: #00af00; text-decoration-color: #00af00\">32</span>)        │      <span style=\"color: #00af00; text-decoration-color: #00af00\">4,128</span> │ dense_31[<span style=\"color: #00af00; text-decoration-color: #00af00\">0</span>][<span style=\"color: #00af00; text-decoration-color: #00af00\">0</span>]    │\n",
              "│ (<span style=\"color: #0087ff; text-decoration-color: #0087ff\">Dense</span>)             │                   │            │                   │\n",
              "├─────────────────────┼───────────────────┼────────────┼───────────────────┤\n",
              "│ Attrition_Hidden    │ (<span style=\"color: #00d7ff; text-decoration-color: #00d7ff\">None</span>, <span style=\"color: #00af00; text-decoration-color: #00af00\">32</span>)        │      <span style=\"color: #00af00; text-decoration-color: #00af00\">4,128</span> │ dense_31[<span style=\"color: #00af00; text-decoration-color: #00af00\">0</span>][<span style=\"color: #00af00; text-decoration-color: #00af00\">0</span>]    │\n",
              "│ (<span style=\"color: #0087ff; text-decoration-color: #0087ff\">Dense</span>)             │                   │            │                   │\n",
              "├─────────────────────┼───────────────────┼────────────┼───────────────────┤\n",
              "│ Department_Output   │ (<span style=\"color: #00d7ff; text-decoration-color: #00d7ff\">None</span>, <span style=\"color: #00af00; text-decoration-color: #00af00\">3</span>)         │         <span style=\"color: #00af00; text-decoration-color: #00af00\">99</span> │ Department_Hidde… │\n",
              "│ (<span style=\"color: #0087ff; text-decoration-color: #0087ff\">Dense</span>)             │                   │            │                   │\n",
              "├─────────────────────┼───────────────────┼────────────┼───────────────────┤\n",
              "│ Attrition_Output    │ (<span style=\"color: #00d7ff; text-decoration-color: #00d7ff\">None</span>, <span style=\"color: #00af00; text-decoration-color: #00af00\">2</span>)         │         <span style=\"color: #00af00; text-decoration-color: #00af00\">66</span> │ Attrition_Hidden… │\n",
              "│ (<span style=\"color: #0087ff; text-decoration-color: #0087ff\">Dense</span>)             │                   │            │                   │\n",
              "└─────────────────────┴───────────────────┴────────────┴───────────────────┘\n",
              "</pre>\n"
            ],
            "text/plain": [
              "┏━━━━━━━━━━━━━━━━━━━━━┳━━━━━━━━━━━━━━━━━━━┳━━━━━━━━━━━━┳━━━━━━━━━━━━━━━━━━━┓\n",
              "┃\u001b[1m \u001b[0m\u001b[1mLayer (type)       \u001b[0m\u001b[1m \u001b[0m┃\u001b[1m \u001b[0m\u001b[1mOutput Shape     \u001b[0m\u001b[1m \u001b[0m┃\u001b[1m \u001b[0m\u001b[1m   Param #\u001b[0m\u001b[1m \u001b[0m┃\u001b[1m \u001b[0m\u001b[1mConnected to     \u001b[0m\u001b[1m \u001b[0m┃\n",
              "┡━━━━━━━━━━━━━━━━━━━━━╇━━━━━━━━━━━━━━━━━━━╇━━━━━━━━━━━━╇━━━━━━━━━━━━━━━━━━━┩\n",
              "│ input_layer_10      │ (\u001b[38;5;45mNone\u001b[0m, \u001b[38;5;34m10\u001b[0m)        │          \u001b[38;5;34m0\u001b[0m │ -                 │\n",
              "│ (\u001b[38;5;33mInputLayer\u001b[0m)        │                   │            │                   │\n",
              "├─────────────────────┼───────────────────┼────────────┼───────────────────┤\n",
              "│ dense_30 (\u001b[38;5;33mDense\u001b[0m)    │ (\u001b[38;5;45mNone\u001b[0m, \u001b[38;5;34m64\u001b[0m)        │        \u001b[38;5;34m704\u001b[0m │ input_layer_10[\u001b[38;5;34m0\u001b[0m… │\n",
              "├─────────────────────┼───────────────────┼────────────┼───────────────────┤\n",
              "│ dense_31 (\u001b[38;5;33mDense\u001b[0m)    │ (\u001b[38;5;45mNone\u001b[0m, \u001b[38;5;34m128\u001b[0m)       │      \u001b[38;5;34m8,320\u001b[0m │ dense_30[\u001b[38;5;34m0\u001b[0m][\u001b[38;5;34m0\u001b[0m]    │\n",
              "├─────────────────────┼───────────────────┼────────────┼───────────────────┤\n",
              "│ Department_Hidden   │ (\u001b[38;5;45mNone\u001b[0m, \u001b[38;5;34m32\u001b[0m)        │      \u001b[38;5;34m4,128\u001b[0m │ dense_31[\u001b[38;5;34m0\u001b[0m][\u001b[38;5;34m0\u001b[0m]    │\n",
              "│ (\u001b[38;5;33mDense\u001b[0m)             │                   │            │                   │\n",
              "├─────────────────────┼───────────────────┼────────────┼───────────────────┤\n",
              "│ Attrition_Hidden    │ (\u001b[38;5;45mNone\u001b[0m, \u001b[38;5;34m32\u001b[0m)        │      \u001b[38;5;34m4,128\u001b[0m │ dense_31[\u001b[38;5;34m0\u001b[0m][\u001b[38;5;34m0\u001b[0m]    │\n",
              "│ (\u001b[38;5;33mDense\u001b[0m)             │                   │            │                   │\n",
              "├─────────────────────┼───────────────────┼────────────┼───────────────────┤\n",
              "│ Department_Output   │ (\u001b[38;5;45mNone\u001b[0m, \u001b[38;5;34m3\u001b[0m)         │         \u001b[38;5;34m99\u001b[0m │ Department_Hidde… │\n",
              "│ (\u001b[38;5;33mDense\u001b[0m)             │                   │            │                   │\n",
              "├─────────────────────┼───────────────────┼────────────┼───────────────────┤\n",
              "│ Attrition_Output    │ (\u001b[38;5;45mNone\u001b[0m, \u001b[38;5;34m2\u001b[0m)         │         \u001b[38;5;34m66\u001b[0m │ Attrition_Hidden… │\n",
              "│ (\u001b[38;5;33mDense\u001b[0m)             │                   │            │                   │\n",
              "└─────────────────────┴───────────────────┴────────────┴───────────────────┘\n"
            ]
          },
          "metadata": {},
          "output_type": "display_data"
        },
        {
          "data": {
            "text/html": [
              "<pre style=\"white-space:pre;overflow-x:auto;line-height:normal;font-family:Menlo,'DejaVu Sans Mono',consolas,'Courier New',monospace\"><span style=\"font-weight: bold\"> Total params: </span><span style=\"color: #00af00; text-decoration-color: #00af00\">17,445</span> (68.14 KB)\n",
              "</pre>\n"
            ],
            "text/plain": [
              "\u001b[1m Total params: \u001b[0m\u001b[38;5;34m17,445\u001b[0m (68.14 KB)\n"
            ]
          },
          "metadata": {},
          "output_type": "display_data"
        },
        {
          "data": {
            "text/html": [
              "<pre style=\"white-space:pre;overflow-x:auto;line-height:normal;font-family:Menlo,'DejaVu Sans Mono',consolas,'Courier New',monospace\"><span style=\"font-weight: bold\"> Trainable params: </span><span style=\"color: #00af00; text-decoration-color: #00af00\">17,445</span> (68.14 KB)\n",
              "</pre>\n"
            ],
            "text/plain": [
              "\u001b[1m Trainable params: \u001b[0m\u001b[38;5;34m17,445\u001b[0m (68.14 KB)\n"
            ]
          },
          "metadata": {},
          "output_type": "display_data"
        },
        {
          "data": {
            "text/html": [
              "<pre style=\"white-space:pre;overflow-x:auto;line-height:normal;font-family:Menlo,'DejaVu Sans Mono',consolas,'Courier New',monospace\"><span style=\"font-weight: bold\"> Non-trainable params: </span><span style=\"color: #00af00; text-decoration-color: #00af00\">0</span> (0.00 B)\n",
              "</pre>\n"
            ],
            "text/plain": [
              "\u001b[1m Non-trainable params: \u001b[0m\u001b[38;5;34m0\u001b[0m (0.00 B)\n"
            ]
          },
          "metadata": {},
          "output_type": "display_data"
        }
      ],
      "source": [
        "# Create the model\n",
        "model = Model(inputs=input_layer, outputs=[department_output_layer, attrition_output_layer])\n",
        "\n",
        "# Compile the model\n",
        "model.compile(optimizer='adam',\n",
        "              loss={'Department_Output': 'binary_crossentropy', 'Attrition_Output': 'binary_crossentropy'},\n",
        "              metrics={'Department_Output': 'accuracy', 'Attrition_Output': 'accuracy'})\n",
        "\n",
        "# Summarize the model\n",
        "model.summary()"
      ]
    },
    {
      "cell_type": "code",
      "execution_count": 131,
      "metadata": {
        "colab": {
          "base_uri": "https://localhost:8080/"
        },
        "id": "c8oGy0dpGc3U",
        "outputId": "cc667d43-28cf-42d4-d719-c2bc02888d30"
      },
      "outputs": [
        {
          "name": "stdout",
          "output_type": "stream",
          "text": [
            "Epoch 1/50\n",
            "\u001b[1m35/35\u001b[0m \u001b[32m━━━━━━━━━━━━━━━━━━━━\u001b[0m\u001b[37m\u001b[0m \u001b[1m2s\u001b[0m 8ms/step - Attrition_Output_accuracy: 0.7167 - Attrition_Output_loss: 0.5949 - Department_Output_accuracy: 0.6167 - Department_Output_loss: 0.6096 - loss: 1.2048 - val_Attrition_Output_accuracy: 0.8696 - val_Attrition_Output_loss: 0.3922 - val_Department_Output_accuracy: 0.6522 - val_Department_Output_loss: 0.4926 - val_loss: 0.8741\n",
            "Epoch 2/50\n",
            "\u001b[1m35/35\u001b[0m \u001b[32m━━━━━━━━━━━━━━━━━━━━\u001b[0m\u001b[37m\u001b[0m \u001b[1m0s\u001b[0m 2ms/step - Attrition_Output_accuracy: 0.8279 - Attrition_Output_loss: 0.4607 - Department_Output_accuracy: 0.6668 - Department_Output_loss: 0.4679 - loss: 0.9288 - val_Attrition_Output_accuracy: 0.8696 - val_Attrition_Output_loss: 0.3858 - val_Department_Output_accuracy: 0.6522 - val_Department_Output_loss: 0.4820 - val_loss: 0.8575\n",
            "Epoch 3/50\n",
            "\u001b[1m35/35\u001b[0m \u001b[32m━━━━━━━━━━━━━━━━━━━━\u001b[0m\u001b[37m\u001b[0m \u001b[1m0s\u001b[0m 2ms/step - Attrition_Output_accuracy: 0.8254 - Attrition_Output_loss: 0.4374 - Department_Output_accuracy: 0.6303 - Department_Output_loss: 0.4704 - loss: 0.9079 - val_Attrition_Output_accuracy: 0.8696 - val_Attrition_Output_loss: 0.3799 - val_Department_Output_accuracy: 0.6522 - val_Department_Output_loss: 0.4773 - val_loss: 0.8456\n",
            "Epoch 4/50\n",
            "\u001b[1m35/35\u001b[0m \u001b[32m━━━━━━━━━━━━━━━━━━━━\u001b[0m\u001b[37m\u001b[0m \u001b[1m0s\u001b[0m 2ms/step - Attrition_Output_accuracy: 0.8374 - Attrition_Output_loss: 0.4182 - Department_Output_accuracy: 0.6554 - Department_Output_loss: 0.4548 - loss: 0.8728 - val_Attrition_Output_accuracy: 0.8696 - val_Attrition_Output_loss: 0.3726 - val_Department_Output_accuracy: 0.6522 - val_Department_Output_loss: 0.4737 - val_loss: 0.8338\n",
            "Epoch 5/50\n",
            "\u001b[1m35/35\u001b[0m \u001b[32m━━━━━━━━━━━━━━━━━━━━\u001b[0m\u001b[37m\u001b[0m \u001b[1m0s\u001b[0m 2ms/step - Attrition_Output_accuracy: 0.8346 - Attrition_Output_loss: 0.4163 - Department_Output_accuracy: 0.6527 - Department_Output_loss: 0.4565 - loss: 0.8729 - val_Attrition_Output_accuracy: 0.8696 - val_Attrition_Output_loss: 0.3731 - val_Department_Output_accuracy: 0.6495 - val_Department_Output_loss: 0.4712 - val_loss: 0.8310\n",
            "Epoch 6/50\n",
            "\u001b[1m35/35\u001b[0m \u001b[32m━━━━━━━━━━━━━━━━━━━━\u001b[0m\u001b[37m\u001b[0m \u001b[1m0s\u001b[0m 2ms/step - Attrition_Output_accuracy: 0.8350 - Attrition_Output_loss: 0.4055 - Department_Output_accuracy: 0.6815 - Department_Output_loss: 0.4317 - loss: 0.8375 - val_Attrition_Output_accuracy: 0.8696 - val_Attrition_Output_loss: 0.3768 - val_Department_Output_accuracy: 0.6413 - val_Department_Output_loss: 0.4700 - val_loss: 0.8328\n",
            "Epoch 7/50\n",
            "\u001b[1m35/35\u001b[0m \u001b[32m━━━━━━━━━━━━━━━━━━━━\u001b[0m\u001b[37m\u001b[0m \u001b[1m0s\u001b[0m 2ms/step - Attrition_Output_accuracy: 0.8245 - Attrition_Output_loss: 0.4316 - Department_Output_accuracy: 0.6668 - Department_Output_loss: 0.4442 - loss: 0.8759 - val_Attrition_Output_accuracy: 0.8696 - val_Attrition_Output_loss: 0.3691 - val_Department_Output_accuracy: 0.6440 - val_Department_Output_loss: 0.4710 - val_loss: 0.8263\n",
            "Epoch 8/50\n",
            "\u001b[1m35/35\u001b[0m \u001b[32m━━━━━━━━━━━━━━━━━━━━\u001b[0m\u001b[37m\u001b[0m \u001b[1m0s\u001b[0m 2ms/step - Attrition_Output_accuracy: 0.8125 - Attrition_Output_loss: 0.4356 - Department_Output_accuracy: 0.6860 - Department_Output_loss: 0.4316 - loss: 0.8669 - val_Attrition_Output_accuracy: 0.8668 - val_Attrition_Output_loss: 0.3686 - val_Department_Output_accuracy: 0.6386 - val_Department_Output_loss: 0.4742 - val_loss: 0.8275\n",
            "Epoch 9/50\n",
            "\u001b[1m35/35\u001b[0m \u001b[32m━━━━━━━━━━━━━━━━━━━━\u001b[0m\u001b[37m\u001b[0m \u001b[1m0s\u001b[0m 2ms/step - Attrition_Output_accuracy: 0.8462 - Attrition_Output_loss: 0.3689 - Department_Output_accuracy: 0.6957 - Department_Output_loss: 0.4124 - loss: 0.7812 - val_Attrition_Output_accuracy: 0.8668 - val_Attrition_Output_loss: 0.3782 - val_Department_Output_accuracy: 0.6359 - val_Department_Output_loss: 0.4706 - val_loss: 0.8348\n",
            "Epoch 10/50\n",
            "\u001b[1m35/35\u001b[0m \u001b[32m━━━━━━━━━━━━━━━━━━━━\u001b[0m\u001b[37m\u001b[0m \u001b[1m0s\u001b[0m 2ms/step - Attrition_Output_accuracy: 0.8422 - Attrition_Output_loss: 0.3831 - Department_Output_accuracy: 0.7265 - Department_Output_loss: 0.4116 - loss: 0.7949 - val_Attrition_Output_accuracy: 0.8641 - val_Attrition_Output_loss: 0.3672 - val_Department_Output_accuracy: 0.6549 - val_Department_Output_loss: 0.4753 - val_loss: 0.8286\n",
            "Epoch 11/50\n",
            "\u001b[1m35/35\u001b[0m \u001b[32m━━━━━━━━━━━━━━━━━━━━\u001b[0m\u001b[37m\u001b[0m \u001b[1m0s\u001b[0m 2ms/step - Attrition_Output_accuracy: 0.8459 - Attrition_Output_loss: 0.3673 - Department_Output_accuracy: 0.7306 - Department_Output_loss: 0.3975 - loss: 0.7646 - val_Attrition_Output_accuracy: 0.8668 - val_Attrition_Output_loss: 0.3803 - val_Department_Output_accuracy: 0.6440 - val_Department_Output_loss: 0.4725 - val_loss: 0.8390\n",
            "Epoch 12/50\n",
            "\u001b[1m35/35\u001b[0m \u001b[32m━━━━━━━━━━━━━━━━━━━━\u001b[0m\u001b[37m\u001b[0m \u001b[1m0s\u001b[0m 2ms/step - Attrition_Output_accuracy: 0.8158 - Attrition_Output_loss: 0.4159 - Department_Output_accuracy: 0.7167 - Department_Output_loss: 0.4067 - loss: 0.8224 - val_Attrition_Output_accuracy: 0.8641 - val_Attrition_Output_loss: 0.3650 - val_Department_Output_accuracy: 0.6413 - val_Department_Output_loss: 0.4784 - val_loss: 0.8295\n",
            "Epoch 13/50\n",
            "\u001b[1m35/35\u001b[0m \u001b[32m━━━━━━━━━━━━━━━━━━━━\u001b[0m\u001b[37m\u001b[0m \u001b[1m0s\u001b[0m 2ms/step - Attrition_Output_accuracy: 0.8503 - Attrition_Output_loss: 0.3749 - Department_Output_accuracy: 0.7191 - Department_Output_loss: 0.4060 - loss: 0.7808 - val_Attrition_Output_accuracy: 0.8750 - val_Attrition_Output_loss: 0.3777 - val_Department_Output_accuracy: 0.6413 - val_Department_Output_loss: 0.4768 - val_loss: 0.8404\n",
            "Epoch 14/50\n",
            "\u001b[1m35/35\u001b[0m \u001b[32m━━━━━━━━━━━━━━━━━━━━\u001b[0m\u001b[37m\u001b[0m \u001b[1m0s\u001b[0m 2ms/step - Attrition_Output_accuracy: 0.8400 - Attrition_Output_loss: 0.3807 - Department_Output_accuracy: 0.7082 - Department_Output_loss: 0.4033 - loss: 0.7844 - val_Attrition_Output_accuracy: 0.8696 - val_Attrition_Output_loss: 0.3686 - val_Department_Output_accuracy: 0.6630 - val_Department_Output_loss: 0.4806 - val_loss: 0.8336\n",
            "Epoch 15/50\n",
            "\u001b[1m35/35\u001b[0m \u001b[32m━━━━━━━━━━━━━━━━━━━━\u001b[0m\u001b[37m\u001b[0m \u001b[1m0s\u001b[0m 2ms/step - Attrition_Output_accuracy: 0.8498 - Attrition_Output_loss: 0.3596 - Department_Output_accuracy: 0.7345 - Department_Output_loss: 0.3852 - loss: 0.7449 - val_Attrition_Output_accuracy: 0.8723 - val_Attrition_Output_loss: 0.3737 - val_Department_Output_accuracy: 0.6495 - val_Department_Output_loss: 0.4822 - val_loss: 0.8402\n",
            "Epoch 16/50\n",
            "\u001b[1m35/35\u001b[0m \u001b[32m━━━━━━━━━━━━━━━━━━━━\u001b[0m\u001b[37m\u001b[0m \u001b[1m0s\u001b[0m 2ms/step - Attrition_Output_accuracy: 0.8501 - Attrition_Output_loss: 0.3806 - Department_Output_accuracy: 0.7402 - Department_Output_loss: 0.3793 - loss: 0.7601 - val_Attrition_Output_accuracy: 0.8723 - val_Attrition_Output_loss: 0.3765 - val_Department_Output_accuracy: 0.6413 - val_Department_Output_loss: 0.4853 - val_loss: 0.8467\n",
            "Epoch 17/50\n",
            "\u001b[1m35/35\u001b[0m \u001b[32m━━━━━━━━━━━━━━━━━━━━\u001b[0m\u001b[37m\u001b[0m \u001b[1m0s\u001b[0m 2ms/step - Attrition_Output_accuracy: 0.8423 - Attrition_Output_loss: 0.3614 - Department_Output_accuracy: 0.7337 - Department_Output_loss: 0.3775 - loss: 0.7387 - val_Attrition_Output_accuracy: 0.8777 - val_Attrition_Output_loss: 0.3719 - val_Department_Output_accuracy: 0.6033 - val_Department_Output_loss: 0.5005 - val_loss: 0.8569\n",
            "Epoch 18/50\n",
            "\u001b[1m35/35\u001b[0m \u001b[32m━━━━━━━━━━━━━━━━━━━━\u001b[0m\u001b[37m\u001b[0m \u001b[1m0s\u001b[0m 2ms/step - Attrition_Output_accuracy: 0.8661 - Attrition_Output_loss: 0.3367 - Department_Output_accuracy: 0.7370 - Department_Output_loss: 0.3837 - loss: 0.7203 - val_Attrition_Output_accuracy: 0.8696 - val_Attrition_Output_loss: 0.3756 - val_Department_Output_accuracy: 0.6223 - val_Department_Output_loss: 0.4940 - val_loss: 0.8552\n",
            "Epoch 19/50\n",
            "\u001b[1m35/35\u001b[0m \u001b[32m━━━━━━━━━━━━━━━━━━━━\u001b[0m\u001b[37m\u001b[0m \u001b[1m0s\u001b[0m 2ms/step - Attrition_Output_accuracy: 0.8540 - Attrition_Output_loss: 0.3507 - Department_Output_accuracy: 0.7507 - Department_Output_loss: 0.3567 - loss: 0.7075 - val_Attrition_Output_accuracy: 0.8668 - val_Attrition_Output_loss: 0.3860 - val_Department_Output_accuracy: 0.6359 - val_Department_Output_loss: 0.5019 - val_loss: 0.8718\n",
            "Epoch 20/50\n",
            "\u001b[1m35/35\u001b[0m \u001b[32m━━━━━━━━━━━━━━━━━━━━\u001b[0m\u001b[37m\u001b[0m \u001b[1m0s\u001b[0m 2ms/step - Attrition_Output_accuracy: 0.8501 - Attrition_Output_loss: 0.3558 - Department_Output_accuracy: 0.7600 - Department_Output_loss: 0.3642 - loss: 0.7201 - val_Attrition_Output_accuracy: 0.8668 - val_Attrition_Output_loss: 0.3795 - val_Department_Output_accuracy: 0.5978 - val_Department_Output_loss: 0.4978 - val_loss: 0.8634\n",
            "Epoch 21/50\n",
            "\u001b[1m35/35\u001b[0m \u001b[32m━━━━━━━━━━━━━━━━━━━━\u001b[0m\u001b[37m\u001b[0m \u001b[1m0s\u001b[0m 2ms/step - Attrition_Output_accuracy: 0.8560 - Attrition_Output_loss: 0.3403 - Department_Output_accuracy: 0.7331 - Department_Output_loss: 0.3704 - loss: 0.7106 - val_Attrition_Output_accuracy: 0.8723 - val_Attrition_Output_loss: 0.3795 - val_Department_Output_accuracy: 0.6223 - val_Department_Output_loss: 0.5073 - val_loss: 0.8732\n",
            "Epoch 22/50\n",
            "\u001b[1m35/35\u001b[0m \u001b[32m━━━━━━━━━━━━━━━━━━━━\u001b[0m\u001b[37m\u001b[0m \u001b[1m0s\u001b[0m 2ms/step - Attrition_Output_accuracy: 0.8579 - Attrition_Output_loss: 0.3350 - Department_Output_accuracy: 0.7646 - Department_Output_loss: 0.3670 - loss: 0.7020 - val_Attrition_Output_accuracy: 0.8641 - val_Attrition_Output_loss: 0.3827 - val_Department_Output_accuracy: 0.6413 - val_Department_Output_loss: 0.5053 - val_loss: 0.8714\n",
            "Epoch 23/50\n",
            "\u001b[1m35/35\u001b[0m \u001b[32m━━━━━━━━━━━━━━━━━━━━\u001b[0m\u001b[37m\u001b[0m \u001b[1m0s\u001b[0m 2ms/step - Attrition_Output_accuracy: 0.8579 - Attrition_Output_loss: 0.3317 - Department_Output_accuracy: 0.7858 - Department_Output_loss: 0.3347 - loss: 0.6662 - val_Attrition_Output_accuracy: 0.8641 - val_Attrition_Output_loss: 0.3815 - val_Department_Output_accuracy: 0.6359 - val_Department_Output_loss: 0.5099 - val_loss: 0.8740\n",
            "Epoch 24/50\n",
            "\u001b[1m35/35\u001b[0m \u001b[32m━━━━━━━━━━━━━━━━━━━━\u001b[0m\u001b[37m\u001b[0m \u001b[1m0s\u001b[0m 2ms/step - Attrition_Output_accuracy: 0.8602 - Attrition_Output_loss: 0.3096 - Department_Output_accuracy: 0.7729 - Department_Output_loss: 0.3380 - loss: 0.6479 - val_Attrition_Output_accuracy: 0.8696 - val_Attrition_Output_loss: 0.3864 - val_Department_Output_accuracy: 0.6630 - val_Department_Output_loss: 0.5164 - val_loss: 0.8849\n",
            "Epoch 25/50\n",
            "\u001b[1m35/35\u001b[0m \u001b[32m━━━━━━━━━━━━━━━━━━━━\u001b[0m\u001b[37m\u001b[0m \u001b[1m0s\u001b[0m 2ms/step - Attrition_Output_accuracy: 0.8557 - Attrition_Output_loss: 0.3207 - Department_Output_accuracy: 0.7725 - Department_Output_loss: 0.3340 - loss: 0.6546 - val_Attrition_Output_accuracy: 0.8723 - val_Attrition_Output_loss: 0.3836 - val_Department_Output_accuracy: 0.6033 - val_Department_Output_loss: 0.5201 - val_loss: 0.8904\n",
            "Epoch 26/50\n",
            "\u001b[1m35/35\u001b[0m \u001b[32m━━━━━━━━━━━━━━━━━━━━\u001b[0m\u001b[37m\u001b[0m \u001b[1m0s\u001b[0m 2ms/step - Attrition_Output_accuracy: 0.8838 - Attrition_Output_loss: 0.2941 - Department_Output_accuracy: 0.7835 - Department_Output_loss: 0.3303 - loss: 0.6244 - val_Attrition_Output_accuracy: 0.8641 - val_Attrition_Output_loss: 0.3966 - val_Department_Output_accuracy: 0.6467 - val_Department_Output_loss: 0.5198 - val_loss: 0.8968\n",
            "Epoch 27/50\n",
            "\u001b[1m35/35\u001b[0m \u001b[32m━━━━━━━━━━━━━━━━━━━━\u001b[0m\u001b[37m\u001b[0m \u001b[1m0s\u001b[0m 2ms/step - Attrition_Output_accuracy: 0.8794 - Attrition_Output_loss: 0.2811 - Department_Output_accuracy: 0.8240 - Department_Output_loss: 0.3167 - loss: 0.5979 - val_Attrition_Output_accuracy: 0.8614 - val_Attrition_Output_loss: 0.3997 - val_Department_Output_accuracy: 0.6196 - val_Department_Output_loss: 0.5320 - val_loss: 0.9139\n",
            "Epoch 28/50\n",
            "\u001b[1m35/35\u001b[0m \u001b[32m━━━━━━━━━━━━━━━━━━━━\u001b[0m\u001b[37m\u001b[0m \u001b[1m0s\u001b[0m 2ms/step - Attrition_Output_accuracy: 0.8854 - Attrition_Output_loss: 0.2751 - Department_Output_accuracy: 0.7971 - Department_Output_loss: 0.3176 - loss: 0.5928 - val_Attrition_Output_accuracy: 0.8696 - val_Attrition_Output_loss: 0.3988 - val_Department_Output_accuracy: 0.6576 - val_Department_Output_loss: 0.5345 - val_loss: 0.9150\n",
            "Epoch 29/50\n",
            "\u001b[1m35/35\u001b[0m \u001b[32m━━━━━━━━━━━━━━━━━━━━\u001b[0m\u001b[37m\u001b[0m \u001b[1m0s\u001b[0m 2ms/step - Attrition_Output_accuracy: 0.8959 - Attrition_Output_loss: 0.2558 - Department_Output_accuracy: 0.7984 - Department_Output_loss: 0.3178 - loss: 0.5739 - val_Attrition_Output_accuracy: 0.8641 - val_Attrition_Output_loss: 0.4125 - val_Department_Output_accuracy: 0.6196 - val_Department_Output_loss: 0.5333 - val_loss: 0.9265\n",
            "Epoch 30/50\n",
            "\u001b[1m35/35\u001b[0m \u001b[32m━━━━━━━━━━━━━━━━━━━━\u001b[0m\u001b[37m\u001b[0m \u001b[1m0s\u001b[0m 2ms/step - Attrition_Output_accuracy: 0.8994 - Attrition_Output_loss: 0.2567 - Department_Output_accuracy: 0.7997 - Department_Output_loss: 0.3157 - loss: 0.5725 - val_Attrition_Output_accuracy: 0.8533 - val_Attrition_Output_loss: 0.4176 - val_Department_Output_accuracy: 0.6332 - val_Department_Output_loss: 0.5561 - val_loss: 0.9533\n",
            "Epoch 31/50\n",
            "\u001b[1m35/35\u001b[0m \u001b[32m━━━━━━━━━━━━━━━━━━━━\u001b[0m\u001b[37m\u001b[0m \u001b[1m0s\u001b[0m 2ms/step - Attrition_Output_accuracy: 0.9108 - Attrition_Output_loss: 0.2390 - Department_Output_accuracy: 0.8057 - Department_Output_loss: 0.2998 - loss: 0.5386 - val_Attrition_Output_accuracy: 0.8587 - val_Attrition_Output_loss: 0.4216 - val_Department_Output_accuracy: 0.5842 - val_Department_Output_loss: 0.5540 - val_loss: 0.9598\n",
            "Epoch 32/50\n",
            "\u001b[1m35/35\u001b[0m \u001b[32m━━━━━━━━━━━━━━━━━━━━\u001b[0m\u001b[37m\u001b[0m \u001b[1m0s\u001b[0m 2ms/step - Attrition_Output_accuracy: 0.9109 - Attrition_Output_loss: 0.2410 - Department_Output_accuracy: 0.8126 - Department_Output_loss: 0.3041 - loss: 0.5450 - val_Attrition_Output_accuracy: 0.8587 - val_Attrition_Output_loss: 0.4211 - val_Department_Output_accuracy: 0.5978 - val_Department_Output_loss: 0.5673 - val_loss: 0.9701\n",
            "Epoch 33/50\n",
            "\u001b[1m35/35\u001b[0m \u001b[32m━━━━━━━━━━━━━━━━━━━━\u001b[0m\u001b[37m\u001b[0m \u001b[1m0s\u001b[0m 2ms/step - Attrition_Output_accuracy: 0.9042 - Attrition_Output_loss: 0.2422 - Department_Output_accuracy: 0.8143 - Department_Output_loss: 0.2959 - loss: 0.5382 - val_Attrition_Output_accuracy: 0.8641 - val_Attrition_Output_loss: 0.4389 - val_Department_Output_accuracy: 0.6087 - val_Department_Output_loss: 0.5691 - val_loss: 0.9891\n",
            "Epoch 34/50\n",
            "\u001b[1m35/35\u001b[0m \u001b[32m━━━━━━━━━━━━━━━━━━━━\u001b[0m\u001b[37m\u001b[0m \u001b[1m0s\u001b[0m 2ms/step - Attrition_Output_accuracy: 0.9034 - Attrition_Output_loss: 0.2217 - Department_Output_accuracy: 0.8329 - Department_Output_loss: 0.2800 - loss: 0.5018 - val_Attrition_Output_accuracy: 0.8641 - val_Attrition_Output_loss: 0.4377 - val_Department_Output_accuracy: 0.6386 - val_Department_Output_loss: 0.5931 - val_loss: 1.0080\n",
            "Epoch 35/50\n",
            "\u001b[1m35/35\u001b[0m \u001b[32m━━━━━━━━━━━━━━━━━━━━\u001b[0m\u001b[37m\u001b[0m \u001b[1m0s\u001b[0m 2ms/step - Attrition_Output_accuracy: 0.9180 - Attrition_Output_loss: 0.2130 - Department_Output_accuracy: 0.8322 - Department_Output_loss: 0.2918 - loss: 0.5048 - val_Attrition_Output_accuracy: 0.8641 - val_Attrition_Output_loss: 0.4523 - val_Department_Output_accuracy: 0.6277 - val_Department_Output_loss: 0.5963 - val_loss: 1.0245\n",
            "Epoch 36/50\n",
            "\u001b[1m35/35\u001b[0m \u001b[32m━━━━━━━━━━━━━━━━━━━━\u001b[0m\u001b[37m\u001b[0m \u001b[1m0s\u001b[0m 2ms/step - Attrition_Output_accuracy: 0.9284 - Attrition_Output_loss: 0.2063 - Department_Output_accuracy: 0.8166 - Department_Output_loss: 0.2817 - loss: 0.4881 - val_Attrition_Output_accuracy: 0.8560 - val_Attrition_Output_loss: 0.4527 - val_Department_Output_accuracy: 0.6250 - val_Department_Output_loss: 0.5962 - val_loss: 1.0261\n",
            "Epoch 37/50\n",
            "\u001b[1m35/35\u001b[0m \u001b[32m━━━━━━━━━━━━━━━━━━━━\u001b[0m\u001b[37m\u001b[0m \u001b[1m0s\u001b[0m 2ms/step - Attrition_Output_accuracy: 0.9249 - Attrition_Output_loss: 0.1891 - Department_Output_accuracy: 0.8389 - Department_Output_loss: 0.2796 - loss: 0.4685 - val_Attrition_Output_accuracy: 0.8533 - val_Attrition_Output_loss: 0.4548 - val_Department_Output_accuracy: 0.5924 - val_Department_Output_loss: 0.6061 - val_loss: 1.0410\n",
            "Epoch 38/50\n",
            "\u001b[1m35/35\u001b[0m \u001b[32m━━━━━━━━━━━━━━━━━━━━\u001b[0m\u001b[37m\u001b[0m \u001b[1m0s\u001b[0m 2ms/step - Attrition_Output_accuracy: 0.9240 - Attrition_Output_loss: 0.2020 - Department_Output_accuracy: 0.8440 - Department_Output_loss: 0.2678 - loss: 0.4699 - val_Attrition_Output_accuracy: 0.8614 - val_Attrition_Output_loss: 0.4540 - val_Department_Output_accuracy: 0.6168 - val_Department_Output_loss: 0.6144 - val_loss: 1.0499\n",
            "Epoch 39/50\n",
            "\u001b[1m35/35\u001b[0m \u001b[32m━━━━━━━━━━━━━━━━━━━━\u001b[0m\u001b[37m\u001b[0m \u001b[1m0s\u001b[0m 2ms/step - Attrition_Output_accuracy: 0.9402 - Attrition_Output_loss: 0.1850 - Department_Output_accuracy: 0.8610 - Department_Output_loss: 0.2514 - loss: 0.4365 - val_Attrition_Output_accuracy: 0.8533 - val_Attrition_Output_loss: 0.4898 - val_Department_Output_accuracy: 0.6304 - val_Department_Output_loss: 0.6226 - val_loss: 1.0883\n",
            "Epoch 40/50\n",
            "\u001b[1m35/35\u001b[0m \u001b[32m━━━━━━━━━━━━━━━━━━━━\u001b[0m\u001b[37m\u001b[0m \u001b[1m0s\u001b[0m 2ms/step - Attrition_Output_accuracy: 0.9543 - Attrition_Output_loss: 0.1610 - Department_Output_accuracy: 0.8461 - Department_Output_loss: 0.2530 - loss: 0.4141 - val_Attrition_Output_accuracy: 0.8587 - val_Attrition_Output_loss: 0.5122 - val_Department_Output_accuracy: 0.6359 - val_Department_Output_loss: 0.6357 - val_loss: 1.1219\n",
            "Epoch 41/50\n",
            "\u001b[1m35/35\u001b[0m \u001b[32m━━━━━━━━━━━━━━━━━━━━\u001b[0m\u001b[37m\u001b[0m \u001b[1m0s\u001b[0m 2ms/step - Attrition_Output_accuracy: 0.9301 - Attrition_Output_loss: 0.1808 - Department_Output_accuracy: 0.8476 - Department_Output_loss: 0.2576 - loss: 0.4384 - val_Attrition_Output_accuracy: 0.8533 - val_Attrition_Output_loss: 0.5052 - val_Department_Output_accuracy: 0.6033 - val_Department_Output_loss: 0.6330 - val_loss: 1.1178\n",
            "Epoch 42/50\n",
            "\u001b[1m35/35\u001b[0m \u001b[32m━━━━━━━━━━━━━━━━━━━━\u001b[0m\u001b[37m\u001b[0m \u001b[1m0s\u001b[0m 2ms/step - Attrition_Output_accuracy: 0.9469 - Attrition_Output_loss: 0.1503 - Department_Output_accuracy: 0.8706 - Department_Output_loss: 0.2264 - loss: 0.3767 - val_Attrition_Output_accuracy: 0.8614 - val_Attrition_Output_loss: 0.5285 - val_Department_Output_accuracy: 0.6005 - val_Department_Output_loss: 0.6531 - val_loss: 1.1538\n",
            "Epoch 43/50\n",
            "\u001b[1m35/35\u001b[0m \u001b[32m━━━━━━━━━━━━━━━━━━━━\u001b[0m\u001b[37m\u001b[0m \u001b[1m0s\u001b[0m 2ms/step - Attrition_Output_accuracy: 0.9505 - Attrition_Output_loss: 0.1437 - Department_Output_accuracy: 0.8785 - Department_Output_loss: 0.2417 - loss: 0.3853 - val_Attrition_Output_accuracy: 0.8478 - val_Attrition_Output_loss: 0.5192 - val_Department_Output_accuracy: 0.6277 - val_Department_Output_loss: 0.6561 - val_loss: 1.1495\n",
            "Epoch 44/50\n",
            "\u001b[1m35/35\u001b[0m \u001b[32m━━━━━━━━━━━━━━━━━━━━\u001b[0m\u001b[37m\u001b[0m \u001b[1m0s\u001b[0m 2ms/step - Attrition_Output_accuracy: 0.9478 - Attrition_Output_loss: 0.1597 - Department_Output_accuracy: 0.8823 - Department_Output_loss: 0.2226 - loss: 0.3823 - val_Attrition_Output_accuracy: 0.8424 - val_Attrition_Output_loss: 0.5274 - val_Department_Output_accuracy: 0.6304 - val_Department_Output_loss: 0.6730 - val_loss: 1.1725\n",
            "Epoch 45/50\n",
            "\u001b[1m35/35\u001b[0m \u001b[32m━━━━━━━━━━━━━━━━━━━━\u001b[0m\u001b[37m\u001b[0m \u001b[1m0s\u001b[0m 2ms/step - Attrition_Output_accuracy: 0.9323 - Attrition_Output_loss: 0.1651 - Department_Output_accuracy: 0.8911 - Department_Output_loss: 0.2134 - loss: 0.3784 - val_Attrition_Output_accuracy: 0.8478 - val_Attrition_Output_loss: 0.5344 - val_Department_Output_accuracy: 0.6141 - val_Department_Output_loss: 0.6687 - val_loss: 1.1752\n",
            "Epoch 46/50\n",
            "\u001b[1m35/35\u001b[0m \u001b[32m━━━━━━━━━━━━━━━━━━━━\u001b[0m\u001b[37m\u001b[0m \u001b[1m0s\u001b[0m 2ms/step - Attrition_Output_accuracy: 0.9649 - Attrition_Output_loss: 0.1258 - Department_Output_accuracy: 0.8770 - Department_Output_loss: 0.2320 - loss: 0.3578 - val_Attrition_Output_accuracy: 0.8315 - val_Attrition_Output_loss: 0.5650 - val_Department_Output_accuracy: 0.6250 - val_Department_Output_loss: 0.6805 - val_loss: 1.2113\n",
            "Epoch 47/50\n",
            "\u001b[1m35/35\u001b[0m \u001b[32m━━━━━━━━━━━━━━━━━━━━\u001b[0m\u001b[37m\u001b[0m \u001b[1m0s\u001b[0m 2ms/step - Attrition_Output_accuracy: 0.9575 - Attrition_Output_loss: 0.1291 - Department_Output_accuracy: 0.8680 - Department_Output_loss: 0.2191 - loss: 0.3479 - val_Attrition_Output_accuracy: 0.8397 - val_Attrition_Output_loss: 0.5422 - val_Department_Output_accuracy: 0.6304 - val_Department_Output_loss: 0.6937 - val_loss: 1.2091\n",
            "Epoch 48/50\n",
            "\u001b[1m35/35\u001b[0m \u001b[32m━━━━━━━━━━━━━━━━━━━━\u001b[0m\u001b[37m\u001b[0m \u001b[1m0s\u001b[0m 2ms/step - Attrition_Output_accuracy: 0.9635 - Attrition_Output_loss: 0.1180 - Department_Output_accuracy: 0.8980 - Department_Output_loss: 0.1937 - loss: 0.3118 - val_Attrition_Output_accuracy: 0.8370 - val_Attrition_Output_loss: 0.5774 - val_Department_Output_accuracy: 0.6005 - val_Department_Output_loss: 0.7107 - val_loss: 1.2597\n",
            "Epoch 49/50\n",
            "\u001b[1m35/35\u001b[0m \u001b[32m━━━━━━━━━━━━━━━━━━━━\u001b[0m\u001b[37m\u001b[0m \u001b[1m0s\u001b[0m 2ms/step - Attrition_Output_accuracy: 0.9686 - Attrition_Output_loss: 0.1143 - Department_Output_accuracy: 0.8828 - Department_Output_loss: 0.2020 - loss: 0.3163 - val_Attrition_Output_accuracy: 0.8397 - val_Attrition_Output_loss: 0.5774 - val_Department_Output_accuracy: 0.6087 - val_Department_Output_loss: 0.7169 - val_loss: 1.2667\n",
            "Epoch 50/50\n",
            "\u001b[1m35/35\u001b[0m \u001b[32m━━━━━━━━━━━━━━━━━━━━\u001b[0m\u001b[37m\u001b[0m \u001b[1m0s\u001b[0m 2ms/step - Attrition_Output_accuracy: 0.9739 - Attrition_Output_loss: 0.1050 - Department_Output_accuracy: 0.9171 - Department_Output_loss: 0.1872 - loss: 0.2920 - val_Attrition_Output_accuracy: 0.8505 - val_Attrition_Output_loss: 0.5849 - val_Department_Output_accuracy: 0.6141 - val_Department_Output_loss: 0.7327 - val_loss: 1.2889\n"
          ]
        }
      ],
      "source": [
        "# Train the model\n",
        "history=model.fit(\n",
        "    X_train_scaled, \n",
        "    {\n",
        "        'Department_Output': training_encoded,\n",
        "        'Attrition_Output': at_training_encoded\n",
        "    },\n",
        "    epochs=50,\n",
        "    batch_size=32,\n",
        "    validation_data=(\n",
        "        X_test_scaled, \n",
        "        {\n",
        "            'Department_Output': test_encoded, \n",
        "            'Attrition_Output': at_test_encoded\n",
        "        }\n",
        "    )\n",
        ")\n"
      ]
    },
    {
      "cell_type": "code",
      "execution_count": 137,
      "metadata": {
        "colab": {
          "base_uri": "https://localhost:8080/"
        },
        "id": "VsMoaQlgGc3U",
        "outputId": "1bd4e601-e964-4abc-ad83-aeecf6b696be"
      },
      "outputs": [
        {
          "name": "stdout",
          "output_type": "stream",
          "text": [
            "\u001b[1m12/12\u001b[0m \u001b[32m━━━━━━━━━━━━━━━━━━━━\u001b[0m\u001b[37m\u001b[0m \u001b[1m0s\u001b[0m 2ms/step - Attrition_Output_accuracy: 0.8434 - Attrition_Output_loss: 0.6297 - Department_Output_accuracy: 0.5973 - Department_Output_loss: 0.7305 - loss: 1.3558 \n",
            "Model evaluation complete.\n",
            "Loss: 1.2888809442520142\n",
            "Department Output - Loss: 0.7326938509941101, Accuracy: 0.8505434989929199\n",
            "Attrition Output - Loss: 0.5849449038505554, Accuracy: 0.614130437374115\n"
          ]
        }
      ],
      "source": [
        "# Evaluate the model with the testing data\n",
        "evaluation = model.evaluate(X_test_scaled, \n",
        "                            {'Department_Output': test_encoded, \n",
        "                             'Attrition_Output': at_test_encoded})\n",
        "\n",
        "# Print the evaluation results\n",
        "print(\"Model evaluation complete.\")\n",
        "print(f\"Loss: {evaluation[0]}\")\n",
        "print(f\"Department Output - Loss: {evaluation[1]}, Accuracy: {evaluation[3]}\")\n",
        "print(f\"Attrition Output - Loss: {evaluation[2]}, Accuracy: {evaluation[4]}\")\n"
      ]
    },
    {
      "cell_type": "code",
      "execution_count": 136,
      "metadata": {
        "colab": {
          "base_uri": "https://localhost:8080/"
        },
        "id": "ZlCtlHi0Vt54",
        "outputId": "bc21ef3e-80c2-4b38-9c29-79515bc23dec"
      },
      "outputs": [
        {
          "name": "stdout",
          "output_type": "stream",
          "text": [
            "Department Accuracy: 0.8505434989929199\n",
            "Attrition Accuracy: 0.614130437374115\n"
          ]
        }
      ],
      "source": [
        "# Print the accuracy for both department and attrition\n",
        "print(f\"Department Accuracy: {evaluation[3]}\")\n",
        "print(f\"Attrition Accuracy: {evaluation[4]}\")"
      ]
    },
    {
      "cell_type": "markdown",
      "metadata": {
        "id": "eGSyfsZfWOQM"
      },
      "source": [
        "# Summary\n",
        "\n",
        "In the provided space below, briefly answer the following questions.\n",
        "\n",
        "1. Is accuracy the best metric to use on this data? Why or why not?\n",
        "\n",
        "2. What activation functions did you choose for your output layers, and why?\n",
        "\n",
        "3. Can you name a few ways that this model might be improved?"
      ]
    },
    {
      "cell_type": "markdown",
      "metadata": {
        "id": "pi9SLpFnWvbF"
      },
      "source": [
        "YOUR ANSWERS HERE\n",
        "\n",
        "1. Chat says that \"Accuracy is a common metric, but it may not always be the best choice, especially for imbalanced datasets\". I do believe our set was a bit imbalanced so perhaps another metric would be good perhaps in addition to accuracy.\n",
        "2. I chose to use Sigmoid as this is what was recommended. I an unsure of why this is the better choice.\n",
        "3. I think I would have to spend more time in looking at the model and inputs. Doing more processing and discovery on the parameters. "
      ]
    },
    {
      "cell_type": "markdown",
      "metadata": {},
      "source": []
    }
  ],
  "metadata": {
    "colab": {
      "provenance": []
    },
    "kernelspec": {
      "display_name": "dev",
      "language": "python",
      "name": "python3"
    },
    "language_info": {
      "codemirror_mode": {
        "name": "ipython",
        "version": 3
      },
      "file_extension": ".py",
      "mimetype": "text/x-python",
      "name": "python",
      "nbconvert_exporter": "python",
      "pygments_lexer": "ipython3",
      "version": "3.10.14"
    }
  },
  "nbformat": 4,
  "nbformat_minor": 0
}
